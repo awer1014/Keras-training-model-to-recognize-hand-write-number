{
 "cells": [
  {
   "cell_type": "code",
   "execution_count": null,
   "metadata": {},
   "outputs": [],
   "source": [
    "!pip install opencv-python\n",
    "!pip install Keras\n",
    "!pip install tensorflow"
   ]
  },
  {
   "cell_type": "code",
   "execution_count": null,
   "metadata": {},
   "outputs": [],
   "source": []
  },
  {
   "cell_type": "code",
   "execution_count": null,
   "metadata": {},
   "outputs": [],
   "source": [
    "import time\n",
    "import numpy as np\n",
    "from matplotlib import pyplot as plt\n",
    "from keras.utils import np_utils\n",
    "from keras.models import Sequential\n",
    "from keras.layers.core import Dense, Dropout, Activation\n",
    "from keras.optimizers import RMSprop, SGD, Adam\n",
    "from keras.datasets import mnist\n",
    "from keras import regularizers\n",
    "import keras.callbacks as CB\n",
    "from keras.layers.normalization import BatchNormalization\n",
    "import pandas as pd\n",
    "import cv2          # 匯入 OpenCV 影像處理套件， 需要安裝\n",
    "import glob         # 匯入內建的檔案與資料夾查詢套件\n",
    "from keras.preprocessing.image import ImageDataGenerator\n",
    "from keras.layers import Reshape"
   ]
  },
  {
   "cell_type": "code",
   "execution_count": null,
   "metadata": {},
   "outputs": [],
   "source": [
    "def load_data():\n",
    "    print ('Loading data...')\n",
    "    (X_train, y_train), (X_test, y_test) = mnist.load_data()\n",
    "    print(type(X_train))\n",
    "    X_train = np.concatenate((X_train, X_test), axis=0)\n",
    "    y_train = np.concatenate((y_train, y_test), axis=0)\n",
    "    X_test=[]\n",
    "    y_test=[]\n",
    "    for label in range(10):\n",
    "        files = glob.glob( \"Training-data/pic_2BPen/\"+str(label)+\"/*.png\" )\n",
    "        for file in files:\n",
    "            img = cv2.imread(file)\n",
    "            img = cv2.cvtColor(img,cv2.COLOR_BGR2GRAY)  #轉灰階\n",
    "            img = cv2.bitwise_not(img)       # 反白：變成黑底白字\n",
    "            img = cv2.resize(img, (28, 28))  # 重設大小為 28x28\n",
    "            X_test.append(img)\n",
    "            y_test.append(label)\n",
    "    X_test = np.array(X_test)\n",
    "    y_test = np.array(y_test)\n",
    "\n",
    "    X_train = X_train.astype('float32')\n",
    "    X_test = X_test.astype('float32')\n",
    "\n",
    "    X_train /= 255\n",
    "    X_test /= 255\n",
    "\n",
    "    X_train = np.expand_dims(X_train,axis=3)\n",
    "    X_test = np.expand_dims(X_test,axis=3)\n",
    "\n",
    "    y_train = np_utils.to_categorical(y_train, 10)\n",
    "    y_test = np_utils.to_categorical(y_test, 10)\n",
    "\n",
    "    print ('Data loaded.')\n",
    "    return [X_train, X_test, y_train, y_test]"
   ]
  },
  {
   "cell_type": "code",
   "execution_count": null,
   "metadata": {},
   "outputs": [],
   "source": [
    "####################################################################\n",
    "## You can setup different networks with different regularizers here\n",
    "#####################################################################\n",
    "def init_model(rms):\n",
    "    start_time = time.time()\n",
    "    print ('Compiling Model ... ')\n",
    "    model = Sequential()\n",
    "    model.add(Reshape((784,), input_shape=(None, 28, 28, 1)))\n",
    "    model.add(Dense(500, kernel_regularizer=regularizers.l2(0.001))) #Use L2\n",
    "    model.add(BatchNormalization())  #add a BN layer here\n",
    "    model.add(Activation('relu'))\n",
    "    #model.add(Dropout(0.4))   #Use dropout\n",
    "    #model.add(Dense(300, kernel_regularizer=regularizers.l1(0.001))) #Use L1\n",
    "    model.add(BatchNormalization())  #add a BN layer here\n",
    "    model.add(Activation('relu'))\n",
    "    #model.add(Dropout(0.4))\n",
    "    model.add(Dense(10))\n",
    "    model.add(BatchNormalization())  #add a BN layer here\n",
    "    model.add(Activation('softmax'))\n",
    "\n",
    "    model.compile(loss='categorical_crossentropy', optimizer=rms, metrics=['accuracy'])\n",
    "    print ('Model compield in {0} seconds'.format(time.time() - start_time))\n",
    "    return model\n"
   ]
  },
  {
   "cell_type": "code",
   "execution_count": null,
   "metadata": {},
   "outputs": [],
   "source": [
    "def run_network(rms, data=None, model=None, nb_epoch=20, batch_size=256):\n",
    "    try:\n",
    "        start_time = time.time()\n",
    "        if data is None:\n",
    "            X_train, X_test, y_train, y_test = load_data()\n",
    "        else:\n",
    "            X_train, X_test, y_train, y_test = data\n",
    "\n",
    "        if model is None:\n",
    "            model = init_model(rms)\n",
    "\n",
    "        print ('Training model...')\n",
    "\n",
    "        callbacks= [ CB.EarlyStopping(monitor='val_loss', patience=3, verbose=2) ] ## Use EarlyStop Here\n",
    "\n",
    "        aug = ImageDataGenerator(rotation_range=20, zoom_range=0.15,\n",
    "        width_shift_range=0.2, height_shift_range=0.2, shear_range=0.15,\n",
    "        horizontal_flip=True, fill_mode=\"nearest\", validation_split=0.2)        \n",
    "\n",
    "        history = model.fit_generator(aug.flow(X_train, y_train, batch_size=32),\n",
    "              steps_per_epoch=len(X_train) // 32, epochs=100)\n",
    "\n",
    "        print (\"Training duration : {0}\".format(time.time() - start_time))\n",
    "        score = model.evaluate(X_test, y_test, batch_size=16)\n",
    "\n",
    "        print (\"Network's test score [loss, accuracy]: {0}\".format(score))\n",
    "        return model, history.history\n",
    "    except KeyboardInterrupt:\n",
    "        print (' KeyboardInterrupt')\n",
    "        return model, history.history\n"
   ]
  },
  {
   "cell_type": "code",
   "execution_count": null,
   "metadata": {},
   "outputs": [],
   "source": [
    "def plot_losses(history_labels):\n",
    "  for history, label in history_labels:\n",
    "    plt.figure(1, figsize=(10,10)) \n",
    "    plt.subplot(211)   # 2 by 1 array of subplots, and draw the first one \n",
    "    plt.plot(history['loss'])  \n",
    "    #plt.plot(history['val_loss'])  \n",
    "    plt.title('model loss ' + label)  \n",
    "    plt.ylabel('loss')  \n",
    "    plt.xlabel('epoch')  \n",
    "    plt.legend(['train', 'test'], loc='upper right')  \n",
    "\t\n",
    "    plt.subplot(212)   # 2 by 1 array of subplots, and draw the second one \n",
    "    plt.plot(history['accuracy'])  \n",
    "    #plt.plot(history['val_accuracy'])  \n",
    "    plt.title('model accuracy ' + label)  \n",
    "    plt.ylabel('accuracy')  \n",
    "    plt.xlabel('epoch')  \n",
    "    plt.legend(['train', 'test'], loc='lower right')  \t\n",
    "    plt.show() "
   ]
  },
  {
   "cell_type": "code",
   "execution_count": null,
   "metadata": {},
   "outputs": [],
   "source": [
    "def plot_image(image):\n",
    "    fig = plt.gcf() #design image size\n",
    "    fig.set_size_inches(2,2) #design image size\n",
    "    plt.imshow(image, cmap = 'binary') \n",
    "    plt.show()\n"
   ]
  },
  {
   "cell_type": "code",
   "execution_count": null,
   "metadata": {},
   "outputs": [],
   "source": [
    "def plot_images_labels_prediction(images, labels, prediction, idx, num=10):\n",
    "    fig =plt.gcf()\n",
    "    fig.set_size_inches(10,10)\n",
    "    if num>25: num = 25\n",
    "    for i in range(0,num):\n",
    "        ax = plt.subplot(5,5,i+1) #Generate 5*5 subgraph\n",
    "        ax.imshow(images[idx], cmap='binary')\n",
    "        title = \"label=\" + str(labels[idx])\n",
    "        if len(prediction)>0:\n",
    "            title+=\",predict=\" + str(prediction[idx])\n",
    "            ax.set_title(title, fontsize=10) #Setting subgraph title and size\n",
    "            ax.set_xticks([]) #don't show the ticks\n",
    "            ax.set_yticks([]) #don't show the ticks\n",
    "            idx+=1\n",
    "            plt.show()"
   ]
  },
  {
   "cell_type": "code",
   "execution_count": null,
   "metadata": {
    "scrolled": false
   },
   "outputs": [],
   "source": [
    "#######################################################\n",
    "## You can try different optimizers here by setting rms\n",
    "########################################################\n",
    "\n",
    "rms = Adam()\n",
    "model3, hloss3 = run_network(rms)\n",
    "\n",
    "labels = ['adam']\n",
    "\n",
    "plot_losses(zip( [hloss3], labels) )\t"
   ]
  }
 ],
 "metadata": {
  "kernelspec": {
   "display_name": "Python 3",
   "language": "python",
   "name": "python3"
  },
  "language_info": {
   "codemirror_mode": {
    "name": "ipython",
    "version": 3
   },
   "file_extension": ".py",
   "mimetype": "text/x-python",
   "name": "python",
   "nbconvert_exporter": "python",
   "pygments_lexer": "ipython3",
   "version": "3.8.3"
  }
 },
 "nbformat": 4,
 "nbformat_minor": 4
}
